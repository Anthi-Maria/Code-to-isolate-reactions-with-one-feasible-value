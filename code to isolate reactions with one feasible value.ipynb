{
 "cells": [
  {
   "cell_type": "code",
   "execution_count": 1,
   "id": "exact-shirt",
   "metadata": {},
   "outputs": [
    {
     "name": "stdout",
     "output_type": "stream",
     "text": [
      "Academic license - for non-commercial use only - expires 2021-07-12\n",
      "Using license file /home/schwartzlab/gurobi.lic\n"
     ]
    }
   ],
   "source": [
    "import numpy as np\n",
    "import pandas as pd\n",
    "import cobra.test\n",
    "import os\n",
    "\n",
    "from os.path import join\n",
    "\n",
    "from time import time\n",
    "\n",
    "\n",
    "from cobra.flux_analysis import (\n",
    "    single_gene_deletion, single_reaction_deletion, double_gene_deletion,\n",
    "    double_reaction_deletion)\n",
    "\n",
    "a = cobra.io.read_sbml_model(\"iEC1344_C.xml\")"
   ]
  },
  {
   "cell_type": "code",
   "execution_count": 2,
   "id": "mineral-alaska",
   "metadata": {
    "scrolled": true
   },
   "outputs": [
    {
     "data": {
      "text/plain": [
       "<optlang.gurobi_interface.Model at 0x7f9ab5f65df0>"
      ]
     },
     "execution_count": 2,
     "metadata": {},
     "output_type": "execute_result"
    }
   ],
   "source": [
    "import cobra\n",
    "from cobra.test import create_test_model\n",
    "cobra_config = cobra.Configuration()\n",
    "cobra_config.solver = \"gurobi\"\n",
    "model = create_test_model(\"textbook\")\n",
    "model.solver"
   ]
  },
  {
   "cell_type": "code",
   "execution_count": 3,
   "id": "fewer-coordinator",
   "metadata": {},
   "outputs": [
    {
     "name": "stdout",
     "output_type": "stream",
     "text": [
      "['EX_cm_e', 'EX_cobalt2_e', 'EX_colipa_e', 'EX_colipap_e', 'EX_crn_e', 'EX_crn__D_e', 'DM_4crsol_c', 'EX_cu2_e', 'DM_5drib_c', 'EX_cyan_e', 'DM_aacald_c', 'DM_amob_c', 'DM_mththf_c', 'EX_glyb_e', 'EX_gthox_e', 'BIOMASS_Ec_iJO1366_WT_53p95M', 'BIOMASS_Ec_iJO1366_core_53p95M', 'EX_14glucan_e', 'EX_15dap_e', 'EX_h2o2_e', 'EX_hacolipa_e', 'EX_halipa_e', 'EX_34dhpac_e', 'EX_hg2_e', 'EX_his__L_e', 'EX_4hoxpacd_e', 'EX_5mtr_e', 'EX_cys__D_e', 'EX_ile__L_e', 'EX_acgal_e', 'EX_inost_e', 'EX_k_e', 'EX_kdo2lipid4_e', 'EX_acolipa_e', 'EX_adocbl_e', 'EX_leu__L_e', 'EX_lipa_e', 'EX_lipa_cold_e', 'EX_ag_e', 'EX_lipoate_e', 'EX_ala_B_e', 'EX_malthx_e', 'EX_maltpt_e', 'EX_malttr_e', 'EX_maltttr_e', 'EX_arbt_e', 'EX_meoh_e', 'EX_met__D_e', 'EX_aso3_e', 'EX_met__L_e', 'EX_metsox_R__L_e', 'EX_metsox_S__L_e', 'EX_mg2_e', 'EX_mincyc_e', 'EX_btn_e', 'EX_mmet_e', 'EX_mn2_e', 'EX_ca2_e', 'EX_cbi_e', 'EX_mobd_e', 'EX_n2o_e', 'EX_na1_e', 'EX_nac_e', 'EX_cbl1_e', 'EX_cd2_e', 'EX_chol_e', 'EX_cl_e', 'EX_ni2_e', 'EX_nmn_e', 'EX_dms_e', 'EX_novbcn_e', 'EX_o16a4colipa_e', 'EX_doxrbcn_e', 'EX_o2s_e', 'EX_xtsn_e', 'EX_pacald_e', 'EX_zn2_e', '12DGR120tipp', '12DGR140tipp', '12DGR141tipp', '12DGR160tipp', 'EX_phe__L_e', 'EX_pheme_e', 'EX_pnto__R_e', '12DGR161tipp', '12DGR180tipp', '12DGR181tipp', '14GLUCANtexi', 'EX_eca4colipa_e', '23CAMPtex', '23CCMPtex', 'EX_pydam_e', '23CGMPtex', '23CUMPtex', '23DAPPAt2pp', '23DAPPAtex', '23PDE2pp', '23PDE4pp', 'EX_pydx_e', 'EX_pydxn_e', 'EX_rfamp_e', '23PDE7pp', '23PDE9pp', 'EX_enlipa_e', 'EX_sel_e', '26DAHtex', 'EX_slnt_e', 'EX_so2_e', 'EX_so3_e', 'EX_spmd_e', 'EX_tcynt_e', 'EX_thm_e', 'EX_tma_e', 'EX_tsul_e', 'EX_ttrcyc_e', 'EX_tungs_e', 'EX_tyr__L_e', '34dhpactex', '3GMPtex', '3AMPtex', '3CMPtex', 'EX_fuc__L_e', '3HAD40', '3HAD60', '3HAD80', '3HCINNMH', 'AADDGT', 'AAMYLpp', '3HPPPNH', '3KGK', 'AB6PGH', '3NTD2pp', '3NTD4pp', '3NTD7pp', 'EX_fusa_e', '3NTD9pp', '3OAR40', 'ACACt2pp', 'ACACtex', '3OAR60', '3OAR80', 'ACANTHAT', 'ACBIPGT', '3OAS60', 'ACGAL1PPpp', 'ACGAL1Ptex', 'ACGALtex', 'ACGAM1PPpp', 'ACGAM1Ptex', 'ACGAMT', '3OAS80', '3PEPTtex', '3UMPtex', '42A12BOOXpp', 'ACGAptspp', 'ACGAtex', '4HOXPACDtex', '4HTHRS', 'ACHBS', 'ACMAMUT', '4PEPTtex', 'ACMANAptspp', 'ACMANAtex', 'ACMUMptspp', 'ACMUMtex', 'ACNAMt2pp', '5DOAN', '5MTRtex', '5MTRtpp', 'A5PISO', 'ACNAMtex', 'ACNML', 'ACOAD1f', 'ACOAD2f', 'ACOAD3f', 'ACONIs', 'ACONMT', 'AGt3', 'AHCYSNS', 'ACPS1', 'ALAALAtex', 'ADCL', 'ADCS', 'ALATRS', 'ADMDC', 'ADNt2pp', 'ALDD4', 'ADNtex', 'EX_gbbtn_e', 'ADOCBIK', 'ADOCBLS', 'ADOCBLabcpp', 'ADOCBLtonex', 'ALLK', 'ALLPI', 'ALLULPE', 'ALLabcpp', 'EX_gdp_e', 'ALLtex', 'ANS', 'ALTRH', 'AMALT1', 'AMANAPEr', 'AMANK', 'AGMHE', 'AGMtex', 'AMAOTr', 'AMMQLT8', 'AMPMS2', 'AMPTASEPG', 'AMPtex', 'AOXSr2', 'ANHGMtex', 'ANPRT', 'AP5AH', 'ASPTRS', 'APCS', 'ASR', 'CDGR', 'CDGS', 'CDPMEK', 'CFAS160E', 'CFAS160G', 'CFAS180E', 'ATPPRT', 'BALAtex', 'CFAS180G', 'CGLYtex', 'CHLtex', 'BMOCOS', 'BMOGDS1', 'BMOGDS2', 'CHOLD', 'CHORM', 'BTNt2ipp', 'BTNtex', 'BTS5', 'CHORS', 'CHRPL', 'CHTBSptspp', 'CHTBStex', 'BUTSO3abcpp', 'CINNDO', 'BUTSO3tex', 'BUTt2rpp', 'BUTtex', 'BWCOGDS1', 'BWCOGDS2', 'BWCOS', 'CA2tex', 'CADVtpp', 'CBIAT', 'CBItonex', 'CBIuabcpp', 'CBL1abcpp', 'CBL1tonex', 'CBLAT', 'CLt3_2pp', 'CLtex', 'CMPtex', 'CCGS', 'CD2tex', 'COBALT2tex', 'APPLDHr', 'COLIPAKpp', 'COLIPAPabctex', 'COLIPAabcpp', 'APRAUR', 'CPMPS', 'CPPPGO', 'CPPPGO2', 'CRNBTCT', 'CRNCAR', 'CRNCBCT', 'ARAI', 'CRNCDH', 'CRNDCAL2', 'CPH4S', 'CRNDtex', 'CRNt7pp', 'DADNt2pp', 'CRNtex', 'DADNtex', 'CSNtex', 'DAMPtex', 'DAPAL', 'DAPDC', 'DAPE', 'DAPabcpp', 'DAPtex', 'CU2tex', 'DB4PS', 'DBTS', 'CUtex', 'CYANST', 'CYANSTpp', 'CYANtex', 'CYNTAH', 'CYNTt2pp', 'DC6PH', 'DCAtex', 'DCMPtex', 'CYNTtex', 'DCYTt2pp', 'DCYTtex', 'DDCAtexi', 'DDGALK', 'CYSDabcpp', 'CYSDtex', 'CYSSADS', 'DDGLCNt2rpp', 'DDGLCNtex', 'CYSTL', 'CYSTRS', 'DDPA', 'DDPGALA', 'DGMPtex', 'DGSNt2pp', 'DGSNtex', 'DHAD2', 'ARBTptspp', 'CYTDt2pp', 'CYTDtex', 'ARBTtex', 'DHBD', 'DHCIND', 'DHCINDO', 'DHDPRy', 'DHQTi', 'DHDPS', 'DHFS', 'DHMPTR', 'DHNAOT4', 'DHNCOAS', 'DHNCOAT', 'DIMPtex', 'DINSt2pp', 'DINStex', 'DKGLCNR1', 'DHNPTE', 'DMATT', 'DHPPD', 'DMQMT', 'DHPPDA2', 'ARBtex', 'DHPS2', 'DHPTDCs2', 'DHPTDNR', 'DMSOtex', 'DMSOtpp', 'DMStex', 'DNMPPA', 'DNTPPA', 'DHPTDNRN', 'DHPTPE', 'DHQS', 'DOPAtex', 'DPCOAK', 'DPR', 'ECAP1pp', 'ECAP2pp', 'ECAP3pp', 'ECAtpp', 'DSBCGT', 'DSBDR', 'DSERtex', 'DTARTD', 'ECOAH1', 'ECOAH2', 'ECOAH3', 'DTMPtex', 'DUMPtex', 'DURIt2pp', 'DURItex', 'EDTXS1', 'EDTXS2', 'EDTXS3', 'EDTXS4', 'EGMEACPR', 'ARGTRS', 'DXPRIi', 'DXPS', 'DXYLK', 'E4PD', 'EPMEACPR', 'ETHSO3abcpp', 'ETHSO3tex', 'ARGtex', 'F6Pt6_2pp', 'F6Ptex', 'ASCBPL', 'FACOAL80t2pp', 'ASCBptspp', 'FALDH2', 'FALDtex', 'FALDtpp', 'FACOAL100t2pp', 'ASCBtex', 'FALGTHLs', 'FCI', 'FCLK', 'FCLPA', 'FCLT', 'FDMO', 'FDMO2', 'FDMO3', 'FDMO4', 'FDMO6', 'FFSD', 'FMETTRS', 'FE3DCITabcpp', 'FE3DCITtonex', 'FE3DHBZR', 'FE3DHBZSabcpp', 'FE3DHBZStonex', 'FMNAT', 'ASNTRS', 'FORCT', 'FRUK', 'FRULYSDG', 'FRULYSE', 'FRULYSK', 'FRULYSt2pp', 'FRULYStex', 'FRUURt2rpp', 'FRUURtex', 'FRUptspp', 'FRUtex', 'FUCtex', 'FUMtex', 'ASO3t8pp', 'G1PPpp', 'G1PTT', 'ASO3tex', 'G1Ptex', 'G2PP', 'GHBDHx', 'ASP1DC', 'G3PCabcpp', 'G3PCtex', 'G3PEtex', 'G3PGtex', 'G3PIabcpp', 'G3PItex', 'G3PSabcpp', 'G3PStex', 'GLCATr', 'G6Pt6_2pp', 'G6Ptex', 'GAL1PPpp', 'GAL1Ptex', 'GALBDtex', 'GLCRAL', 'GLCRD', 'GLCRt2rpp', 'GLCRtex', 'GALCTD', 'GALCTLO', 'GALCTND', 'GALCTNLt2pp', 'GALCTNLtex', 'GLCTR1', 'GLCTR2', 'GALCTNt2pp', 'GALCTNtex', 'GALCTt2rpp', 'GALCTtex', 'GLCUR1Ptex', 'GLCURt2rpp', 'GLCURtex', 'GALKr', 'GALM2pp', 'GALS3', 'GALTptspp', 'GALTtex', 'GALURt2rpp', 'GALURtex', 'GLNTRS', 'GALtex', 'GLNtex', 'GAM6Pt6_2pp', 'GAMAN6Ptex', 'GAMptspp', 'GAMtex', 'GLTPD', 'GBBTNtex', 'GCALDD', 'GDMANE', 'GDPtex', 'GLYBtex', 'GLYC2Pabcpp', 'GLYC2Ptex', 'GUI1', 'GUI2', 'GUR1PPpp', 'H2O2tex', 'HXAtex', 'H2tex', 'H2tpp', 'I2FE2SR', 'I2FE2SS', 'HBZOPT', 'HCINNMt2rpp', 'I2FE2SS2', 'I2FE2ST', 'I4FE4SR', 'HCINNMtex', 'I4FE4ST', 'HDCAtexi', 'HDCEAtexi', 'ICHORT', 'HEMEOS', 'ICYSDS', 'HEPK1', 'HEPK2', 'HEPT1', 'HEPT2', 'IG3PS', 'HEPT3', 'HETZK', 'IGPDH', 'IGPS', 'ILETA', 'HG2tex', 'ILETRS', 'ILEtex', 'HISTD', 'HISTP', 'HISTRS', 'IMPtex', 'HIStex', 'HKNDDH', 'HKNTDH', 'HMBS', 'HMPK1', 'INDOLEtex', 'INOSTt4pp', 'INSTtex', 'INSt2pp', 'INStex', 'IPDDI', 'HOPNTAL', 'HPPK2', 'HPPPNDO', 'HPPPNt2rpp', 'HPPPNtex', 'IPMD', 'IPPMIa', 'IPPMIb', 'IPPS', 'ISETACabcpp', 'HSST', 'HSTPT', 'ISETACtex', 'K2L4Aabcpp', 'K2L4Aabctex', 'KARA2', 'KDOCT2', 'GLYTRS', 'KDOPP', 'KDOPS', 'KG6PDC', 'Ktex', 'LA4NTpp', 'LACZpp', 'LALADGLUtex', 'LALADGLUtpp', 'LALALGLUtex', 'LALALGLUtpp', 'GMAND', 'LCTStex', 'LEUTAi', 'LEUTRS', 'GMHEPAT', 'LEUtex', 'LIPACabcpp', 'LIPAHT2ex', 'GMHEPK', 'LIPAHTex', 'LIPAMPL', 'LIPATPT', 'LIPAabcpp', 'LIPOS', 'LIPOt2pp', 'GMHEPPA', 'LIPOtex', 'LPADSS', 'LYSDC', 'LYSTRS', 'LYStex', 'LYXI', 'LYXt2pp', 'LYXtex', 'M1PD', 'MALCOAMT', 'MALDDH', 'MALDt2_2pp', 'GMPtex', 'MALDtex', 'MANAO', 'MANGLYCptspp', 'MANGLYCtex', 'MALTATr', 'MALTHXtexi', 'MANPGH', 'MANptspp', 'MANtex', 'MALTPTtexi', 'MALTTRtexi', 'MALTTTRtexi', 'MALTptspp', 'MALTtexi', 'GOFUCR', 'MCPST', 'MCTP2App', 'MDDCP2pp', 'MAN6PI', 'MAN6Pt6_2pp', 'MAN6Ptex', 'GP4GH', 'GPDDA1', 'MDDEP4pp', 'GPDDA1pp', 'MINOHPtexi', 'MECDPS', 'MLTG1', 'MLTG2', 'MELIBtex', 'MEOHtex', 'MEOHtrpp', 'MEPCT', 'METAT', 'METDabcpp', 'GPDDA3', 'METDtex', 'MLTGY4pp', 'METS', 'METSOX1abcpp', 'METSOX1tex', 'METSOX2abcpp', 'METSOX2tex', 'MMETtex', 'METTRS', 'METabcpp', 'METtex', 'MG2tex', 'MNLptspp', 'MNLtex', 'MNNH', 'MNtex', 'MOADSUx', 'MOAT', 'MI1PP', 'MOAT2', 'MOBDabcpp', 'MOBDtex', 'MOCDS', 'MOCOS', 'MOGDS', 'GPDDA5', 'MOHMT', 'MPTAT', 'GPDDA5pp', 'NACtex', 'NACtpp', 'MPTG2', 'GRTT', 'MPTS', 'MPTSS', 'MSO3abcpp', 'MSO3tex', 'MTAN', 'MTHFR2', 'MTHTHFSs', 'MTRPOX', 'N2Otex', 'N2Otpp', 'GSNt2pp', 'GSNtex', 'OCDCAtexi', 'NAtex', 'NO3t7pp', 'NO3tex', 'NOtex', 'NOtpp', 'GTHOXtex', 'NTD10pp', 'NTD11pp', 'NI2tex', 'NTD12pp', 'NTD1pp', 'NMNtex', 'NTD2pp', 'NTD3pp', 'NTD4pp', 'NTD5pp', 'NNDMBRT', 'NNDPR', 'NTD6pp', 'NTD7pp', 'NO2t2rpp', 'NO2tex', 'NTD8pp', 'NTD9pp', 'NTP11', 'NTP12', 'OCDCEAtexi', 'OCTAtex', 'OCTDPS', 'NTP3pp', 'OGMEACPD', 'GTHRDtex', 'OGMEACPR', 'OGMEACPS', 'OHPBAT', 'OHPHM', 'OMBZLM', 'OMCDC', 'GTPCI', 'GTPCII2', 'OP4ENH', 'OPHBDC', 'OPMEACPD', 'OPMEACPR', 'O16A4COLIPAabctex', 'OPMEACPS', 'O16GLCT2', 'ORNtex', 'O2Stex', 'OROTtex', 'OXCDC', 'GTPtex', 'PEAMNOpp', 'PEAMNtex', 'PERD', 'PETNT161pp', 'PETNT181pp', 'PFK_2', 'PACALDt2rpp', 'PACALDtex', 'PANTS', 'PAPA120pp', 'PAPA140pp', 'PAPA141pp', 'PAPA160pp', 'PAPA161pp', 'PAPA180pp', 'PGLYCP', 'PAPA181pp', 'PDX5PS', 'PRAIi', 'PRAMPC', 'PRATPP', 'PRMICI', 'PROGLYabcpp', 'PHEMEabcpp', 'PHEMEtiex', 'PHETA1', 'PROGLYtex', 'PROTRS', 'PHETRS', 'PHEt2rpp', 'PHEtex', 'PHYTSpp', 'PSCLYSt2pp', 'PSCLYStex', 'PSCVT', 'PSERtex', 'QUIN2tex', 'QUIN2tpp', 'QUINDH', 'QULNS', 'R5PPpp', 'PTA2', 'R5Ptex', 'RBFK', 'RBFSa', 'RBFSb', 'PTPATi', 'RBP4E', 'PTRCtex', 'RHCCE', 'RIBtex', 'RMI', 'RMK', 'RMNtex', 'RMNtpp', 'RMPA', 'PYDAMtex', 'PYDAMtpp', 'PYDXNtex', 'PYDXNtpp', 'PYDXtex', 'PYDXtpp', 'SPMDAT2', 'RZ5PP', 'SPMDtex', 'S2FE2SR', 'SPMS', 'S2FE2SS', 'S2FE2SS2', 'S2FE2ST', 'SPODMpp', 'S4FE4SR', 'S4FE4ST', 'S7PI', 'SUCBZL', 'SUCBZS', 'SARCOX', 'SBTPD', 'SBTptspp', 'SBTtex', 'SCYSDS', 'SDPDS', 'SDPTA', 'SELCYSS', 'SELGTHR', 'SELGTHR2', 'SELGTHR3', 'SELNPS', 'SELR', 'SUCRtex', 'SUCptspp', 'SELtex', 'SULFACabcpp', 'SELtpp', 'SEPHCHCS', 'SULFACtex', 'TAGURr', 'TARTRDtex', 'SERTRS', 'SERTRS2', 'TARTRt7pp', 'TARTRtex', 'TARTt2_3pp', 'TAUDO', 'TAURabcpp', 'TAURtex', 'SHCHCS3', 'TCYNTtex', 'TDPADGAT', 'TDPAGTA', 'TDPDRE', 'TDPDRR', 'TDPGDH', 'TDSK', 'SHCHD2', 'SHCHF', 'SHK3Dr', 'SHKK', 'SHSL1', 'SKMt2pp', 'SKMtex', 'SLNTtex', 'TDSR1', 'TGBPA', 'THDPS', 'SO2tex', 'SO2tpp', 'SO3tex', 'THMDt2pp', 'THMDtex', 'THMabcpp', 'THMtex', 'SPMDAT1', 'TYRTA', 'TYRTRS', 'THRPtex', 'THRTRS', 'TYRt2rpp', 'TYRtex', 'ThDPAT', 'U23GAAT', 'UACGALPpp', 'UACGAMPpp', 'THZPSN3', 'UACGAMtex', 'UACMAMO', 'UAG2E', 'UAGAAT', 'TMAOtex', 'TMAtex', 'TMK', 'UDCPDPS', 'UDCPDPpp', 'UDCPPtppi', 'UDPACGALtex', 'UDPG4E', 'TMPPP', 'UDPGALPpp', 'UDPGALtex', 'UDPGD', 'UDPGDC', 'UDPGLCURtex', 'UDPGPpp', 'UDPGtex', 'UDPKAAT', 'UGLCURPpp', 'TREHpp', 'TREtex', 'UGLT', 'UHGADA', 'TRPTRS', 'TRPt2rpp', 'TRPtex', 'ULA4NFT', 'ULA4Ntppi', 'TSULabcpp', 'TSULtex', 'TTDCAtexi', 'TTDCEAtexi', 'TUNGSabcpp', 'UMPtex', 'UPLA4FNF', 'UPLA4FNT', 'UPP3MT', 'UPP3S', 'UPPDC1', 'TUNGStex', 'TYMtex', 'TYRL', 'TYROXDApp', 'TYRPpp', 'TYRPtex', 'PMDPHT', 'WCOS', 'X5PL3E', 'URIt2pp', 'URItex', 'USHD', 'VALTRS', 'XMPtex', 'PMEACPE', 'XTSNtex', 'XYLI1', 'XYLK', 'XYLK2', 'PNTK', 'XYLUt2pp', 'MDRPD', 'XYLUtex', 'PNTOt4pp', 'MTRI', 'MTRK', 'XYLtex', 'Zn2tex', 'OXGDC2', 'PNTOtex', 'SHCHCS2', 'EX_3hoxpac_e', 'EX_3ntym_e', 'EX_4hoxpac_e', 'EX_6apa_e', 'THZPSN', 'UNK3', 'CLBtex', 'SALCNtex', 'RAFFtex', 'GALAMtex', 'EX_cellb_e', 'EX_galam_e', 'GALAM6PISO', 'EX_lipidA_core_e', 'ACGAL6PISO', '3hoxpactex', 'EX_o6a4colipa_e', 'EX_peng_e', 'PPALtex', 'PPALtpp', '4hoxpactex', 'PPAtex', 'PPBNGS', 'HHEDA', 'PACt1', 'PPCDC', 'PACt', '2DHPACCOAH', '3DHPACCOAH', 'PENGt1', '6APAt1', '3ntymex', '3NTYROXDApp', '4H3NPACALDt2rpp', '4H3NALDD', '4HOXPACDtpp', '4HALDD_1', '34DHPHAtpp', '34DHALDD', 'LIP4Atppi', 'LIPIDAt1ex', 'LIPIDAt2ex', 'PPNCL2', 'PETNLA161pp', 'PETNLA181pp', 'PPND', 'ENLIPIDAt1ex', 'ENLIPIDAt2ex', 'PETNENLA161pp', 'PPNDH', 'PETNENLA181pp', '14DENLIPIDAt1ex', '14DENLIPIDAt2ex', 'LIPAHT3ex', 'LIPAcore', 'LIPIDACOt1ex', 'PPPNDO', 'LIPIDACOt2ex', 'EDTXSA1', 'PPPNt2rpp', 'EDTXSB1', 'LIPAAabcpp', 'LIPABabcpp', 'EDTXSF1', 'EDTXSF120', 'EX_raffin_e', 'EDTXSF140', 'PPPNtex', 'EDTXSF141', 'EDTXSF160', 'EDTXSF161', 'EDTXSF180', 'EX_salcn_e', 'EDTXSF181', 'PPTHpp', 'EDTXS_core', 'LIPAt1ex', 'PPTtex', 'LIPAt2ex', 'ENLIPAt1ex', 'AOXSr', 'ENLIPAt2ex', 'HEPTA1', 'HEPTA2', 'HEPKA1', 'HEPTA3', 'HEPKA2', 'BTS4', 'DHPTDCs', 'DM_4hba_c', 'DM_hmfurn_c', 'GLCTRA1', 'GLCR1TRA2', 'HEPTB1', 'HEPTB2', 'HEPKB1', 'HEPTB3', 'HEPKB2', 'GLCTRB1', 'GLCR1TRB2', 'COLIPABabcpp', 'EDTXSCOF1', 'EDTXSCOF120', 'EDTXSCOF140', 'EDTXSCOF141', 'EDTXSCOF160', 'EDTXSCOF161', 'EDTXSCOF180', 'EDTXSCOF181', 'EDTXSCOF', 'O6MANT1', 'O6MANT2', 'O6GALT1', 'O6GLCT1', 'DARBtex', 'O6AP1pp', 'O6AP2pp', 'O6AP3pp', 'O6A4Lpp', 'EX_arab__D_e', 'COLIPAt1ex', 'COLIPAt2ex', 'O6A4COLIPAt1ex', 'DHPDO', 'O6A4COLIPAt2ex', 'ECA4COLIPAt1ex', 'ECA4COLIPAt2ex', 'ACOLIPAt1ex', 'ACOLIPAt2ex', 'CLIPAt1ex', 'CLIPAt2ex', 'LIPIDIIFLIP', 'PUTAM', 'ARABDI', 'BDH', '34HPPOR', 'ALPHNH', 'CMLBL', 'CHOLSH', 'CHDLDH', 'DHXAN', 'AMID', 'ARABD', 'IDTDH', 'LYSAM', 'MAL6PG', 'MPL', 'AMID5', 'APRTO2_1', '5HOXINOXDA_1', '41R2A1H12BOOX_1', '41R1H2MAE12BOOX', 'MAOLNOR', 'DURAD2', 'ASNO', 'TRYPTAOX_1', 'SBTD_D2', 'HPA3MOFAD', 'TARTH', 'DIEHLAC', '42A12BOOX', 'AMID3', 'SUCP', 'LTARTDH', 'UAG4Ei', 'UGCIAMH']\n",
      "[]\n"
     ]
    }
   ],
   "source": [
    "int_reactions3= list()\n",
    "i= -1\n",
    "r = a.reactions[0]\n",
    "r_id = r.id\n",
    "zero= list()\n",
    "one= list()\n",
    "\n",
    "for r in a.reactions:\n",
    "    i= i+1\n",
    "    r = a.reactions[i]\n",
    "    r_id = r.id\n",
    "\n",
    "    csvFile = pd.read_csv('biomass_per_flux_for_reaction_{}.csv'.format(r_id))\n",
    "    v= len(csvFile[\"Biomass\"])-csvFile[\"Biomass\"].isna().sum()\n",
    "    \n",
    "    if v == 1:\n",
    "        one.append(r_id)\n",
    "    elif v == 0:\n",
    "        zero.append(r_id)\n",
    "\n",
    "print(one)\n",
    "print(zero)"
   ]
  },
  {
   "cell_type": "code",
   "execution_count": 5,
   "id": "needed-notion",
   "metadata": {},
   "outputs": [
    {
     "data": {
      "text/html": [
       "<div>\n",
       "<style scoped>\n",
       "    .dataframe tbody tr th:only-of-type {\n",
       "        vertical-align: middle;\n",
       "    }\n",
       "\n",
       "    .dataframe tbody tr th {\n",
       "        vertical-align: top;\n",
       "    }\n",
       "\n",
       "    .dataframe thead th {\n",
       "        text-align: right;\n",
       "    }\n",
       "</style>\n",
       "<table border=\"1\" class=\"dataframe\">\n",
       "  <thead>\n",
       "    <tr style=\"text-align: right;\">\n",
       "      <th></th>\n",
       "      <th>1 feasible value</th>\n",
       "    </tr>\n",
       "  </thead>\n",
       "  <tbody>\n",
       "    <tr>\n",
       "      <th>0</th>\n",
       "      <td>EX_cm_e</td>\n",
       "    </tr>\n",
       "    <tr>\n",
       "      <th>1</th>\n",
       "      <td>EX_cobalt2_e</td>\n",
       "    </tr>\n",
       "    <tr>\n",
       "      <th>2</th>\n",
       "      <td>EX_colipa_e</td>\n",
       "    </tr>\n",
       "    <tr>\n",
       "      <th>3</th>\n",
       "      <td>EX_colipap_e</td>\n",
       "    </tr>\n",
       "    <tr>\n",
       "      <th>4</th>\n",
       "      <td>EX_crn_e</td>\n",
       "    </tr>\n",
       "    <tr>\n",
       "      <th>...</th>\n",
       "      <td>...</td>\n",
       "    </tr>\n",
       "    <tr>\n",
       "      <th>1110</th>\n",
       "      <td>AMID3</td>\n",
       "    </tr>\n",
       "    <tr>\n",
       "      <th>1111</th>\n",
       "      <td>SUCP</td>\n",
       "    </tr>\n",
       "    <tr>\n",
       "      <th>1112</th>\n",
       "      <td>LTARTDH</td>\n",
       "    </tr>\n",
       "    <tr>\n",
       "      <th>1113</th>\n",
       "      <td>UAG4Ei</td>\n",
       "    </tr>\n",
       "    <tr>\n",
       "      <th>1114</th>\n",
       "      <td>UGCIAMH</td>\n",
       "    </tr>\n",
       "  </tbody>\n",
       "</table>\n",
       "<p>1115 rows × 1 columns</p>\n",
       "</div>"
      ],
      "text/plain": [
       "     1 feasible value\n",
       "0             EX_cm_e\n",
       "1        EX_cobalt2_e\n",
       "2         EX_colipa_e\n",
       "3        EX_colipap_e\n",
       "4            EX_crn_e\n",
       "...               ...\n",
       "1110            AMID3\n",
       "1111             SUCP\n",
       "1112          LTARTDH\n",
       "1113           UAG4Ei\n",
       "1114          UGCIAMH\n",
       "\n",
       "[1115 rows x 1 columns]"
      ]
     },
     "execution_count": 5,
     "metadata": {},
     "output_type": "execute_result"
    }
   ],
   "source": [
    "d= pd.DataFrame (one, columns = ['1 feasible value'])\n",
    "d"
   ]
  },
  {
   "cell_type": "code",
   "execution_count": 7,
   "id": "legal-civilian",
   "metadata": {},
   "outputs": [
    {
     "ename": "KeyError",
     "evalue": "0",
     "output_type": "error",
     "traceback": [
      "\u001b[0;31m---------------------------------------------------------------------------\u001b[0m",
      "\u001b[0;31mKeyError\u001b[0m                                  Traceback (most recent call last)",
      "\u001b[0;32m~/miniconda3/lib/python3.8/site-packages/pandas/core/indexes/base.py\u001b[0m in \u001b[0;36mget_loc\u001b[0;34m(self, key, method, tolerance)\u001b[0m\n\u001b[1;32m   3079\u001b[0m             \u001b[0;32mtry\u001b[0m\u001b[0;34m:\u001b[0m\u001b[0;34m\u001b[0m\u001b[0;34m\u001b[0m\u001b[0m\n\u001b[0;32m-> 3080\u001b[0;31m                 \u001b[0;32mreturn\u001b[0m \u001b[0mself\u001b[0m\u001b[0;34m.\u001b[0m\u001b[0m_engine\u001b[0m\u001b[0;34m.\u001b[0m\u001b[0mget_loc\u001b[0m\u001b[0;34m(\u001b[0m\u001b[0mcasted_key\u001b[0m\u001b[0;34m)\u001b[0m\u001b[0;34m\u001b[0m\u001b[0;34m\u001b[0m\u001b[0m\n\u001b[0m\u001b[1;32m   3081\u001b[0m             \u001b[0;32mexcept\u001b[0m \u001b[0mKeyError\u001b[0m \u001b[0;32mas\u001b[0m \u001b[0merr\u001b[0m\u001b[0;34m:\u001b[0m\u001b[0;34m\u001b[0m\u001b[0;34m\u001b[0m\u001b[0m\n",
      "\u001b[0;32mpandas/_libs/index.pyx\u001b[0m in \u001b[0;36mpandas._libs.index.IndexEngine.get_loc\u001b[0;34m()\u001b[0m\n",
      "\u001b[0;32mpandas/_libs/index.pyx\u001b[0m in \u001b[0;36mpandas._libs.index.IndexEngine.get_loc\u001b[0;34m()\u001b[0m\n",
      "\u001b[0;32mpandas/_libs/hashtable_class_helper.pxi\u001b[0m in \u001b[0;36mpandas._libs.hashtable.PyObjectHashTable.get_item\u001b[0;34m()\u001b[0m\n",
      "\u001b[0;32mpandas/_libs/hashtable_class_helper.pxi\u001b[0m in \u001b[0;36mpandas._libs.hashtable.PyObjectHashTable.get_item\u001b[0;34m()\u001b[0m\n",
      "\u001b[0;31mKeyError\u001b[0m: 0",
      "\nThe above exception was the direct cause of the following exception:\n",
      "\u001b[0;31mKeyError\u001b[0m                                  Traceback (most recent call last)",
      "\u001b[0;32m<ipython-input-7-45fbbef38700>\u001b[0m in \u001b[0;36m<module>\u001b[0;34m\u001b[0m\n\u001b[1;32m      4\u001b[0m \u001b[0;34m\u001b[0m\u001b[0m\n\u001b[1;32m      5\u001b[0m \u001b[0;32mfor\u001b[0m \u001b[0mi\u001b[0m \u001b[0;32min\u001b[0m \u001b[0mcsvFile\u001b[0m\u001b[0;34m:\u001b[0m\u001b[0;34m\u001b[0m\u001b[0;34m\u001b[0m\u001b[0m\n\u001b[0;32m----> 6\u001b[0;31m     \u001b[0;32mif\u001b[0m \u001b[0mcsvFile\u001b[0m\u001b[0;34m[\u001b[0m\u001b[0mi\u001b[0m\u001b[0;34m]\u001b[0m \u001b[0;34m!=\u001b[0m \u001b[0mcsvFile\u001b[0m\u001b[0;34m[\u001b[0m\u001b[0;36m0\u001b[0m\u001b[0;34m]\u001b[0m\u001b[0;34m:\u001b[0m\u001b[0;34m\u001b[0m\u001b[0;34m\u001b[0m\u001b[0m\n\u001b[0m\u001b[1;32m      7\u001b[0m         \u001b[0mdiff\u001b[0m\u001b[0;34m.\u001b[0m\u001b[0mappend\u001b[0m\u001b[0;34m(\u001b[0m\u001b[0mr_id\u001b[0m\u001b[0;34m)\u001b[0m\u001b[0;34m\u001b[0m\u001b[0;34m\u001b[0m\u001b[0m\n\u001b[1;32m      8\u001b[0m \u001b[0;34m\u001b[0m\u001b[0m\n",
      "\u001b[0;32m~/miniconda3/lib/python3.8/site-packages/pandas/core/frame.py\u001b[0m in \u001b[0;36m__getitem__\u001b[0;34m(self, key)\u001b[0m\n\u001b[1;32m   3022\u001b[0m             \u001b[0;32mif\u001b[0m \u001b[0mself\u001b[0m\u001b[0;34m.\u001b[0m\u001b[0mcolumns\u001b[0m\u001b[0;34m.\u001b[0m\u001b[0mnlevels\u001b[0m \u001b[0;34m>\u001b[0m \u001b[0;36m1\u001b[0m\u001b[0;34m:\u001b[0m\u001b[0;34m\u001b[0m\u001b[0;34m\u001b[0m\u001b[0m\n\u001b[1;32m   3023\u001b[0m                 \u001b[0;32mreturn\u001b[0m \u001b[0mself\u001b[0m\u001b[0;34m.\u001b[0m\u001b[0m_getitem_multilevel\u001b[0m\u001b[0;34m(\u001b[0m\u001b[0mkey\u001b[0m\u001b[0;34m)\u001b[0m\u001b[0;34m\u001b[0m\u001b[0;34m\u001b[0m\u001b[0m\n\u001b[0;32m-> 3024\u001b[0;31m             \u001b[0mindexer\u001b[0m \u001b[0;34m=\u001b[0m \u001b[0mself\u001b[0m\u001b[0;34m.\u001b[0m\u001b[0mcolumns\u001b[0m\u001b[0;34m.\u001b[0m\u001b[0mget_loc\u001b[0m\u001b[0;34m(\u001b[0m\u001b[0mkey\u001b[0m\u001b[0;34m)\u001b[0m\u001b[0;34m\u001b[0m\u001b[0;34m\u001b[0m\u001b[0m\n\u001b[0m\u001b[1;32m   3025\u001b[0m             \u001b[0;32mif\u001b[0m \u001b[0mis_integer\u001b[0m\u001b[0;34m(\u001b[0m\u001b[0mindexer\u001b[0m\u001b[0;34m)\u001b[0m\u001b[0;34m:\u001b[0m\u001b[0;34m\u001b[0m\u001b[0;34m\u001b[0m\u001b[0m\n\u001b[1;32m   3026\u001b[0m                 \u001b[0mindexer\u001b[0m \u001b[0;34m=\u001b[0m \u001b[0;34m[\u001b[0m\u001b[0mindexer\u001b[0m\u001b[0;34m]\u001b[0m\u001b[0;34m\u001b[0m\u001b[0;34m\u001b[0m\u001b[0m\n",
      "\u001b[0;32m~/miniconda3/lib/python3.8/site-packages/pandas/core/indexes/base.py\u001b[0m in \u001b[0;36mget_loc\u001b[0;34m(self, key, method, tolerance)\u001b[0m\n\u001b[1;32m   3080\u001b[0m                 \u001b[0;32mreturn\u001b[0m \u001b[0mself\u001b[0m\u001b[0;34m.\u001b[0m\u001b[0m_engine\u001b[0m\u001b[0;34m.\u001b[0m\u001b[0mget_loc\u001b[0m\u001b[0;34m(\u001b[0m\u001b[0mcasted_key\u001b[0m\u001b[0;34m)\u001b[0m\u001b[0;34m\u001b[0m\u001b[0;34m\u001b[0m\u001b[0m\n\u001b[1;32m   3081\u001b[0m             \u001b[0;32mexcept\u001b[0m \u001b[0mKeyError\u001b[0m \u001b[0;32mas\u001b[0m \u001b[0merr\u001b[0m\u001b[0;34m:\u001b[0m\u001b[0;34m\u001b[0m\u001b[0;34m\u001b[0m\u001b[0m\n\u001b[0;32m-> 3082\u001b[0;31m                 \u001b[0;32mraise\u001b[0m \u001b[0mKeyError\u001b[0m\u001b[0;34m(\u001b[0m\u001b[0mkey\u001b[0m\u001b[0;34m)\u001b[0m \u001b[0;32mfrom\u001b[0m \u001b[0merr\u001b[0m\u001b[0;34m\u001b[0m\u001b[0;34m\u001b[0m\u001b[0m\n\u001b[0m\u001b[1;32m   3083\u001b[0m \u001b[0;34m\u001b[0m\u001b[0m\n\u001b[1;32m   3084\u001b[0m         \u001b[0;32mif\u001b[0m \u001b[0mtolerance\u001b[0m \u001b[0;32mis\u001b[0m \u001b[0;32mnot\u001b[0m \u001b[0;32mNone\u001b[0m\u001b[0;34m:\u001b[0m\u001b[0;34m\u001b[0m\u001b[0;34m\u001b[0m\u001b[0m\n",
      "\u001b[0;31mKeyError\u001b[0m: 0"
     ]
    }
   ],
   "source": [
    "i= 0\n",
    "diff= list()\n",
    "flat= list()\n",
    "\n",
    "for i in csvFile:\n",
    "    if csvFile[i] != csvFile[0]:\n",
    "        diff.append(r_id)\n",
    "        \n",
    "    else:\n",
    "        flat.append(r_id)\n",
    "    \n",
    "    i= i+1"
   ]
  },
  {
   "cell_type": "code",
   "execution_count": 34,
   "id": "sunset-hungary",
   "metadata": {},
   "outputs": [],
   "source": [
    "r_id= \"VALTA\"\n",
    "\n",
    "vt= np.where(csvFile[\"Biomass\"].isna().sum()== False)\n",
    "vt\n",
    "\n",
    "def is_unique(s):\n",
    "    b = s.to_numpy() # s.values (pandas<0.24)\n",
    "    if csvFile[\"Biomass\"].isna().sum() == False:\n",
    "        return (b[0] == b).all()\n",
    "\n",
    "is_unique(csvFile[\"Biomass\"])"
   ]
  },
  {
   "cell_type": "code",
   "execution_count": 43,
   "id": "reserved-arnold",
   "metadata": {},
   "outputs": [
    {
     "ename": "SyntaxError",
     "evalue": "invalid syntax (<ipython-input-43-2b13492e8c50>, line 1)",
     "output_type": "error",
     "traceback": [
      "\u001b[0;36m  File \u001b[0;32m\"<ipython-input-43-2b13492e8c50>\"\u001b[0;36m, line \u001b[0;32m1\u001b[0m\n\u001b[0;31m    for csvFile[\"Biomass\"].isna() = 0:\u001b[0m\n\u001b[0m                                  ^\u001b[0m\n\u001b[0;31mSyntaxError\u001b[0m\u001b[0;31m:\u001b[0m invalid syntax\n"
     ]
    }
   ],
   "source": [
    "for csvFile[\"Biomass\"].isna() = 0:\n",
    "    d= pd.DataFrame (csvFile[\"Biomass\"], columns = ['feasible value'])\n",
    "d\n",
    "    \n"
   ]
  },
  {
   "cell_type": "code",
   "execution_count": 69,
   "id": "protective-movement",
   "metadata": {},
   "outputs": [
    {
     "data": {
      "text/plain": [
       "False"
      ]
     },
     "execution_count": 69,
     "metadata": {},
     "output_type": "execute_result"
    }
   ],
   "source": [
    "len(np.unique(csvFile.Biomass)) == 1"
   ]
  },
  {
   "cell_type": "code",
   "execution_count": 60,
   "id": "excessive-hotel",
   "metadata": {},
   "outputs": [
    {
     "name": "stdout",
     "output_type": "stream",
     "text": [
      "different\n",
      "nan\n",
      "nan\n"
     ]
    }
   ],
   "source": [
    "i= 0\n",
    "imax= 200\n",
    "r = a.reactions[0]\n",
    "r_id = r.id\n",
    "l= list()\n",
    "\n",
    "inf= csvFile.iloc[i,  2]\n",
    "\n",
    "i= 1\n",
    "if csvFile.iloc[i,  2] == \"nan\":\n",
    "    print(\"equal\")\n",
    "else:\n",
    "    print(\"different\")\n",
    "    \n",
    "print(csvFile.iloc[1,  2])\n",
    "print(inf)"
   ]
  },
  {
   "cell_type": "code",
   "execution_count": 68,
   "id": "collaborative-quilt",
   "metadata": {},
   "outputs": [
    {
     "data": {
      "text/html": [
       "<div>\n",
       "<style scoped>\n",
       "    .dataframe tbody tr th:only-of-type {\n",
       "        vertical-align: middle;\n",
       "    }\n",
       "\n",
       "    .dataframe tbody tr th {\n",
       "        vertical-align: top;\n",
       "    }\n",
       "\n",
       "    .dataframe thead th {\n",
       "        text-align: right;\n",
       "    }\n",
       "</style>\n",
       "<table border=\"1\" class=\"dataframe\">\n",
       "  <thead>\n",
       "    <tr style=\"text-align: right;\">\n",
       "      <th></th>\n",
       "      <th>Biomass</th>\n",
       "    </tr>\n",
       "  </thead>\n",
       "  <tbody>\n",
       "    <tr>\n",
       "      <th>0</th>\n",
       "      <td>0.982396</td>\n",
       "    </tr>\n",
       "  </tbody>\n",
       "</table>\n",
       "</div>"
      ],
      "text/plain": [
       "    Biomass\n",
       "0  0.982396"
      ]
     },
     "execution_count": 68,
     "metadata": {},
     "output_type": "execute_result"
    }
   ],
   "source": [
    "i= 0\n",
    "imax= 200\n",
    "r = a.reactions[0]\n",
    "r_id = r.id\n",
    "l= list()\n",
    "\n",
    "inf= csvFile.iloc[i,  2]\n",
    "i= 100\n",
    "flt= float(csvFile.iloc[i,  2])\n",
    "\n",
    "if csvFile.iloc[i,  2] == flt:\n",
    "    l.append(csvFile.iloc[i,  2])\n",
    "l\n",
    "\n",
    "d= pd.DataFrame (l, columns = ['Biomass'])\n",
    "d"
   ]
  },
  {
   "cell_type": "code",
   "execution_count": null,
   "id": "charitable-conditions",
   "metadata": {},
   "outputs": [],
   "source": [
    "i= 0\n",
    "imax= 200\n",
    "r = a.reactions[0]\n",
    "r_id = r.id\n",
    "l= list()\n",
    "\n",
    "inf= csvFile.iloc[i,  2]\n",
    "\n",
    "for i<= imax:\n",
    "    if csvFile.iloc[i,  2] == inf:\n",
    "        print(\"equal\")\n",
    "    else:\n",
    "        print(\"different\")   "
   ]
  },
  {
   "cell_type": "code",
   "execution_count": null,
   "id": "configured-private",
   "metadata": {},
   "outputs": [],
   "source": [
    "    if csvFile[\"Biomass\"].isna() == False:\n",
    "        l.append(csvFile[\"Biomass\"])\n",
    "    i= i+1"
   ]
  }
 ],
 "metadata": {
  "kernelspec": {
   "display_name": "Python 3",
   "language": "python",
   "name": "python3"
  },
  "language_info": {
   "codemirror_mode": {
    "name": "ipython",
    "version": 3
   },
   "file_extension": ".py",
   "mimetype": "text/x-python",
   "name": "python",
   "nbconvert_exporter": "python",
   "pygments_lexer": "ipython3",
   "version": "3.8.3"
  }
 },
 "nbformat": 4,
 "nbformat_minor": 5
}
